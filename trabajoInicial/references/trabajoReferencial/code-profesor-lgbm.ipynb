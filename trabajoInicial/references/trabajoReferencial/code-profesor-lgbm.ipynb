{
 "cells": [
  {
   "cell_type": "markdown",
   "id": "364ba32a",
   "metadata": {},
   "source": [
    "## IMPORTACIÓN DE DATA"
   ]
  },
  {
   "cell_type": "code",
   "execution_count": 1,
   "id": "ebd0c2b0",
   "metadata": {},
   "outputs": [],
   "source": [
    "import pandas as pd\n",
    "import numpy as np\n",
    "import matplotlib.pyplot as plt\n",
    "import seaborn as sns\n",
    "from sklearn.cluster import KMeans\n",
    "%matplotlib inline"
   ]
  },
  {
   "cell_type": "code",
   "execution_count": 2,
   "id": "99ec5406",
   "metadata": {},
   "outputs": [
    {
     "data": {
      "text/html": [
       "<div>\n",
       "<style scoped>\n",
       "    .dataframe tbody tr th:only-of-type {\n",
       "        vertical-align: middle;\n",
       "    }\n",
       "\n",
       "    .dataframe tbody tr th {\n",
       "        vertical-align: top;\n",
       "    }\n",
       "\n",
       "    .dataframe thead th {\n",
       "        text-align: right;\n",
       "    }\n",
       "</style>\n",
       "<table border=\"1\" class=\"dataframe\">\n",
       "  <thead>\n",
       "    <tr style=\"text-align: right;\">\n",
       "      <th></th>\n",
       "      <th>Unnamed: 0</th>\n",
       "      <th>CODMES</th>\n",
       "      <th>TARGET_MODEL2</th>\n",
       "      <th>EDAD</th>\n",
       "      <th>SEXO</th>\n",
       "      <th>DEPARTAMENTO</th>\n",
       "      <th>INGRESO_BRUTO_M1</th>\n",
       "      <th>FLG_CLIENTE</th>\n",
       "      <th>SEGMENTO</th>\n",
       "      <th>FLG_ADEL_SUELDO_M1</th>\n",
       "      <th>FREC_AGENTE</th>\n",
       "      <th>FLG_VEH_SF</th>\n",
       "      <th>FLG_CONV_SF</th>\n",
       "      <th>FREC_KIOSKO</th>\n",
       "      <th>FREC_BPI_TD</th>\n",
       "      <th>FREC_MON_TD</th>\n",
       "      <th>PROM_CTD_TRX_6M</th>\n",
       "      <th>ANT_CLIENTE</th>\n",
       "      <th>REC_AGENTE_TD</th>\n",
       "      <th>CTD_RECLAMOS_M1</th>\n",
       "    </tr>\n",
       "  </thead>\n",
       "  <tbody>\n",
       "    <tr>\n",
       "      <th>0</th>\n",
       "      <td>1</td>\n",
       "      <td>201411</td>\n",
       "      <td>0</td>\n",
       "      <td>46</td>\n",
       "      <td>F</td>\n",
       "      <td>PIURA</td>\n",
       "      <td>NaN</td>\n",
       "      <td>NO CLIENTE</td>\n",
       "      <td>2</td>\n",
       "      <td>0</td>\n",
       "      <td>0</td>\n",
       "      <td>0.0</td>\n",
       "      <td>0.0</td>\n",
       "      <td>0</td>\n",
       "      <td>0</td>\n",
       "      <td>0</td>\n",
       "      <td>0.0</td>\n",
       "      <td>224.0</td>\n",
       "      <td>NaN</td>\n",
       "      <td>0</td>\n",
       "    </tr>\n",
       "    <tr>\n",
       "      <th>1</th>\n",
       "      <td>2</td>\n",
       "      <td>201411</td>\n",
       "      <td>0</td>\n",
       "      <td>54</td>\n",
       "      <td>M</td>\n",
       "      <td>LORETO</td>\n",
       "      <td>4718.0</td>\n",
       "      <td>CLIENTE</td>\n",
       "      <td>1BC</td>\n",
       "      <td>0</td>\n",
       "      <td>0</td>\n",
       "      <td>0.0</td>\n",
       "      <td>1.0</td>\n",
       "      <td>0</td>\n",
       "      <td>0</td>\n",
       "      <td>0</td>\n",
       "      <td>0.0</td>\n",
       "      <td>123.0</td>\n",
       "      <td>NaN</td>\n",
       "      <td>0</td>\n",
       "    </tr>\n",
       "    <tr>\n",
       "      <th>2</th>\n",
       "      <td>3</td>\n",
       "      <td>201411</td>\n",
       "      <td>0</td>\n",
       "      <td>81</td>\n",
       "      <td>M</td>\n",
       "      <td>NaN</td>\n",
       "      <td>NaN</td>\n",
       "      <td>CLIENTE</td>\n",
       "      <td>6</td>\n",
       "      <td>0</td>\n",
       "      <td>0</td>\n",
       "      <td>NaN</td>\n",
       "      <td>NaN</td>\n",
       "      <td>0</td>\n",
       "      <td>0</td>\n",
       "      <td>0</td>\n",
       "      <td>0.0</td>\n",
       "      <td>264.0</td>\n",
       "      <td>NaN</td>\n",
       "      <td>0</td>\n",
       "    </tr>\n",
       "    <tr>\n",
       "      <th>3</th>\n",
       "      <td>4</td>\n",
       "      <td>201411</td>\n",
       "      <td>0</td>\n",
       "      <td>42</td>\n",
       "      <td>M</td>\n",
       "      <td>PIURA</td>\n",
       "      <td>936.0</td>\n",
       "      <td>CLIENTE</td>\n",
       "      <td>2</td>\n",
       "      <td>0</td>\n",
       "      <td>0</td>\n",
       "      <td>NaN</td>\n",
       "      <td>NaN</td>\n",
       "      <td>0</td>\n",
       "      <td>0</td>\n",
       "      <td>0</td>\n",
       "      <td>0.0</td>\n",
       "      <td>263.0</td>\n",
       "      <td>NaN</td>\n",
       "      <td>0</td>\n",
       "    </tr>\n",
       "    <tr>\n",
       "      <th>4</th>\n",
       "      <td>5</td>\n",
       "      <td>201411</td>\n",
       "      <td>0</td>\n",
       "      <td>52</td>\n",
       "      <td>M</td>\n",
       "      <td>MOQUEGUA</td>\n",
       "      <td>5844.0</td>\n",
       "      <td>CLIENTE</td>\n",
       "      <td>1BC</td>\n",
       "      <td>0</td>\n",
       "      <td>0</td>\n",
       "      <td>NaN</td>\n",
       "      <td>NaN</td>\n",
       "      <td>0</td>\n",
       "      <td>0</td>\n",
       "      <td>0</td>\n",
       "      <td>0.0</td>\n",
       "      <td>263.0</td>\n",
       "      <td>NaN</td>\n",
       "      <td>0</td>\n",
       "    </tr>\n",
       "  </tbody>\n",
       "</table>\n",
       "</div>"
      ],
      "text/plain": [
       "   Unnamed: 0  CODMES  TARGET_MODEL2  EDAD SEXO DEPARTAMENTO  \\\n",
       "0           1  201411              0    46    F        PIURA   \n",
       "1           2  201411              0    54    M       LORETO   \n",
       "2           3  201411              0    81    M          NaN   \n",
       "3           4  201411              0    42    M        PIURA   \n",
       "4           5  201411              0    52    M     MOQUEGUA   \n",
       "\n",
       "   INGRESO_BRUTO_M1 FLG_CLIENTE SEGMENTO  FLG_ADEL_SUELDO_M1  FREC_AGENTE  \\\n",
       "0               NaN  NO CLIENTE        2                   0            0   \n",
       "1            4718.0     CLIENTE      1BC                   0            0   \n",
       "2               NaN     CLIENTE        6                   0            0   \n",
       "3             936.0     CLIENTE        2                   0            0   \n",
       "4            5844.0     CLIENTE      1BC                   0            0   \n",
       "\n",
       "   FLG_VEH_SF  FLG_CONV_SF  FREC_KIOSKO  FREC_BPI_TD  FREC_MON_TD  \\\n",
       "0         0.0          0.0            0            0            0   \n",
       "1         0.0          1.0            0            0            0   \n",
       "2         NaN          NaN            0            0            0   \n",
       "3         NaN          NaN            0            0            0   \n",
       "4         NaN          NaN            0            0            0   \n",
       "\n",
       "   PROM_CTD_TRX_6M  ANT_CLIENTE  REC_AGENTE_TD  CTD_RECLAMOS_M1  \n",
       "0              0.0        224.0            NaN                0  \n",
       "1              0.0        123.0            NaN                0  \n",
       "2              0.0        264.0            NaN                0  \n",
       "3              0.0        263.0            NaN                0  \n",
       "4              0.0        263.0            NaN                0  "
      ]
     },
     "execution_count": 2,
     "metadata": {},
     "output_type": "execute_result"
    }
   ],
   "source": [
    "Fuga=pd.read_csv('TRAIN_FUGA.csv',encoding=\"ISO-8859-1\",sep=',')\n",
    "Fuga.head()"
   ]
  },
  {
   "cell_type": "code",
   "execution_count": 3,
   "id": "6a957106",
   "metadata": {},
   "outputs": [
    {
     "name": "stdout",
     "output_type": "stream",
     "text": [
      "<class 'pandas.core.frame.DataFrame'>\n",
      "RangeIndex: 787495 entries, 0 to 787494\n",
      "Data columns (total 20 columns):\n",
      " #   Column              Non-Null Count   Dtype  \n",
      "---  ------              --------------   -----  \n",
      " 0   Unnamed: 0          787495 non-null  int64  \n",
      " 1   CODMES              787495 non-null  int64  \n",
      " 2   TARGET_MODEL2       787495 non-null  int64  \n",
      " 3   EDAD                787495 non-null  int64  \n",
      " 4   SEXO                787495 non-null  object \n",
      " 5   DEPARTAMENTO        760520 non-null  object \n",
      " 6   INGRESO_BRUTO_M1    600241 non-null  float64\n",
      " 7   FLG_CLIENTE         787495 non-null  object \n",
      " 8   SEGMENTO            787495 non-null  object \n",
      " 9   FLG_ADEL_SUELDO_M1  787495 non-null  int64  \n",
      " 10  FREC_AGENTE         787495 non-null  int64  \n",
      " 11  FLG_VEH_SF          518112 non-null  float64\n",
      " 12  FLG_CONV_SF         518112 non-null  float64\n",
      " 13  FREC_KIOSKO         787495 non-null  int64  \n",
      " 14  FREC_BPI_TD         787495 non-null  int64  \n",
      " 15  FREC_MON_TD         787495 non-null  int64  \n",
      " 16  PROM_CTD_TRX_6M     787495 non-null  float64\n",
      " 17  ANT_CLIENTE         786572 non-null  float64\n",
      " 18  REC_AGENTE_TD       92289 non-null   float64\n",
      " 19  CTD_RECLAMOS_M1     787495 non-null  int64  \n",
      "dtypes: float64(6), int64(10), object(4)\n",
      "memory usage: 120.2+ MB\n"
     ]
    }
   ],
   "source": [
    "Fuga.info()"
   ]
  },
  {
   "cell_type": "markdown",
   "id": "3b7abe2d",
   "metadata": {},
   "source": [
    "## - ANALISIS DESCRIPTIVO"
   ]
  },
  {
   "cell_type": "markdown",
   "id": "67ec9e25",
   "metadata": {},
   "source": [
    "**OBSERVAMOS EL TOTAL DE NULOS EN CADA VARIABLES**"
   ]
  },
  {
   "cell_type": "code",
   "execution_count": 4,
   "id": "67286cad",
   "metadata": {},
   "outputs": [
    {
     "data": {
      "text/plain": [
       "Unnamed: 0                 0\n",
       "CODMES                     0\n",
       "TARGET_MODEL2              0\n",
       "EDAD                       0\n",
       "SEXO                       0\n",
       "DEPARTAMENTO           26975\n",
       "INGRESO_BRUTO_M1      187254\n",
       "FLG_CLIENTE                0\n",
       "SEGMENTO                   0\n",
       "FLG_ADEL_SUELDO_M1         0\n",
       "FREC_AGENTE                0\n",
       "FLG_VEH_SF            269383\n",
       "FLG_CONV_SF           269383\n",
       "FREC_KIOSKO                0\n",
       "FREC_BPI_TD                0\n",
       "FREC_MON_TD                0\n",
       "PROM_CTD_TRX_6M            0\n",
       "ANT_CLIENTE              923\n",
       "REC_AGENTE_TD         695206\n",
       "CTD_RECLAMOS_M1            0\n",
       "dtype: int64"
      ]
     },
     "execution_count": 4,
     "metadata": {},
     "output_type": "execute_result"
    }
   ],
   "source": [
    " Fuga.isnull().sum()"
   ]
  },
  {
   "cell_type": "markdown",
   "id": "14e4ee5e",
   "metadata": {},
   "source": [
    "**OBSERVAMOS GRAFICAMENTE**"
   ]
  },
  {
   "cell_type": "code",
   "execution_count": 5,
   "id": "31b60c39",
   "metadata": {},
   "outputs": [
    {
     "data": {
      "text/plain": [
       "<AxesSubplot:>"
      ]
     },
     "execution_count": 5,
     "metadata": {},
     "output_type": "execute_result"
    },
    {
     "data": {
      "image/png": "[encoded data removed]",
      "text/plain": [
       "<Figure size 432x288 with 2 Axes>"
      ]
     },
     "metadata": {
      "needs_background": "light"
     },
     "output_type": "display_data"
    }
   ],
   "source": [
    "sns.heatmap(Fuga.isnull())"
   ]
  },
  {
   "cell_type": "markdown",
   "id": "31455a07",
   "metadata": {},
   "source": [
    "**GRAFICAMOS EL TARGET**"
   ]
  },
  {
   "cell_type": "code",
   "execution_count": 6,
   "id": "0e3a9206",
   "metadata": {},
   "outputs": [
    {
     "name": "stderr",
     "output_type": "stream",
     "text": [
      "C:\\Users\\FIORE\\anaconda3\\lib\\site-packages\\seaborn\\_decorators.py:36: FutureWarning: Pass the following variable as a keyword arg: x. From version 0.12, the only valid positional argument will be `data`, and passing other arguments without an explicit keyword will result in an error or misinterpretation.\n",
      "  warnings.warn(\n"
     ]
    },
    {
     "data": {
      "image/png": "[encoded data removed]",
      "text/plain": [
       "<Figure size 1296x576 with 2 Axes>"
      ]
     },
     "metadata": {
      "needs_background": "light"
     },
     "output_type": "display_data"
    }
   ],
   "source": [
    "f,ax=plt.subplots(1,2,figsize=(18,8))\n",
    "Fuga['TARGET_MODEL2'].value_counts().plot.pie(explode=[0,0.1],autopct='%1.1f%%',ax=ax[0],shadow=True)\n",
    "ax[0].set_title('TARGET_MODEL2')\n",
    "ax[0].set_ylabel('')\n",
    "sns.countplot('TARGET_MODEL2',data=Fuga,ax=ax[1])\n",
    "ax[1].set_title('TARGET_MODEL2')\n",
    "plt.show()"
   ]
  },
  {
   "cell_type": "markdown",
   "id": "482a8503",
   "metadata": {},
   "source": [
    "**OBSERVAMOS EN PORCENTAJES EL TARGET**"
   ]
  },
  {
   "cell_type": "code",
   "execution_count": 7,
   "id": "486bf593",
   "metadata": {
    "scrolled": true
   },
   "outputs": [
    {
     "name": "stdout",
     "output_type": "stream",
     "text": [
      "porcentaje de no fuga 94.44491711058483\n",
      "porcentaje de fuga 5.5550828894151705\n"
     ]
    }
   ],
   "source": [
    "count_no_sub=len(Fuga[Fuga['TARGET_MODEL2']==0])\n",
    "count_sub=len(Fuga[Fuga['TARGET_MODEL2']==1])\n",
    "pct_of_no_sub=count_no_sub/(count_no_sub + count_sub)\n",
    "print(\"porcentaje de no fuga\",pct_of_no_sub*100)\n",
    "pct_of_sub = count_sub/(count_no_sub + count_sub)\n",
    "print(\"porcentaje de fuga\",pct_of_sub*100)"
   ]
  },
  {
   "cell_type": "markdown",
   "id": "d7ede3bd",
   "metadata": {},
   "source": [
    "**GRAFICAMOS EL TARGET RESPECTO AL SEXO**"
   ]
  },
  {
   "cell_type": "code",
   "execution_count": 8,
   "id": "0ee88347",
   "metadata": {},
   "outputs": [
    {
     "data": {
      "text/plain": [
       "<AxesSubplot:xlabel='SEXO', ylabel='count'>"
      ]
     },
     "execution_count": 8,
     "metadata": {},
     "output_type": "execute_result"
    },
    {
     "data": {
      "image/png": "[encoded data removed]",
      "text/plain": [
       "<Figure size 720x288 with 1 Axes>"
      ]
     },
     "metadata": {},
     "output_type": "display_data"
    }
   ],
   "source": [
    "sns.set_style('whitegrid')\n",
    "plt.figure(figsize=(10,4))\n",
    "sns.countplot(x='SEXO',hue='TARGET_MODEL2',data=Fuga,palette='RdBu_r')"
   ]
  },
  {
   "cell_type": "code",
   "execution_count": 9,
   "id": "7c0dbc0c",
   "metadata": {},
   "outputs": [
    {
     "data": {
      "text/plain": [
       "<AxesSubplot:xlabel='FREC_BPI_TD', ylabel='count'>"
      ]
     },
     "execution_count": 9,
     "metadata": {},
     "output_type": "execute_result"
    },
    {
     "data": {
      "image/png": "[encoded data removed]",
      "text/plain": [
       "<Figure size 864x288 with 1 Axes>"
      ]
     },
     "metadata": {},
     "output_type": "display_data"
    }
   ],
   "source": [
    "sns.set_style('whitegrid')\n",
    "plt.figure(figsize=(12,4))\n",
    "sns.countplot(x='FREC_BPI_TD',hue='TARGET_MODEL2',data=Fuga,palette='RdBu_r')"
   ]
  },
  {
   "cell_type": "code",
   "execution_count": 10,
   "id": "8442213b",
   "metadata": {},
   "outputs": [
    {
     "data": {
      "text/plain": [
       "<AxesSubplot:xlabel='FLG_ADEL_SUELDO_M1', ylabel='count'>"
      ]
     },
     "execution_count": 10,
     "metadata": {},
     "output_type": "execute_result"
    },
    {
     "data": {
      "image/png": "[encoded data removed]",
      "text/plain": [
       "<Figure size 864x288 with 1 Axes>"
      ]
     },
     "metadata": {},
     "output_type": "display_data"
    }
   ],
   "source": [
    "sns.set_style('whitegrid')\n",
    "plt.figure(figsize=(12,4))\n",
    "sns.countplot(x='FLG_ADEL_SUELDO_M1',hue='TARGET_MODEL2',data=Fuga,palette='RdBu_r')"
   ]
  },
  {
   "cell_type": "markdown",
   "id": "0b48cba3",
   "metadata": {},
   "source": [
    "**COMPORTAMIENTO DE LA EDAD**"
   ]
  },
  {
   "cell_type": "code",
   "execution_count": 11,
   "id": "a8b44d64",
   "metadata": {
    "scrolled": true
   },
   "outputs": [
    {
     "name": "stderr",
     "output_type": "stream",
     "text": [
      "C:\\Users\\FIORE\\anaconda3\\lib\\site-packages\\seaborn\\distributions.py:2557: FutureWarning: `distplot` is a deprecated function and will be removed in a future version. Please adapt your code to use either `displot` (a figure-level function with similar flexibility) or `histplot` (an axes-level function for histograms).\n",
      "  warnings.warn(msg, FutureWarning)\n"
     ]
    },
    {
     "data": {
      "text/plain": [
       "<AxesSubplot:xlabel='EDAD'>"
      ]
     },
     "execution_count": 11,
     "metadata": {},
     "output_type": "execute_result"
    },
    {
     "data": {
      "image/png": "[encoded data removed]",
      "text/plain": [
       "<Figure size 432x288 with 1 Axes>"
      ]
     },
     "metadata": {},
     "output_type": "display_data"
    }
   ],
   "source": [
    " sns.distplot(Fuga['EDAD'].dropna(),kde=False,color='darkred',bins=30)"
   ]
  },
  {
   "cell_type": "markdown",
   "id": "e9bbad10",
   "metadata": {},
   "source": [
    "## TRATAMIENTO DE DATOS"
   ]
  },
  {
   "cell_type": "markdown",
   "id": "b9cc9a32",
   "metadata": {},
   "source": [
    "**IMPUTACIONES**"
   ]
  },
  {
   "cell_type": "markdown",
   "id": "31d20dd9",
   "metadata": {},
   "source": [
    "- **Inicialmente tenemos:**"
   ]
  },
  {
   "cell_type": "code",
   "execution_count": 12,
   "id": "9dab8542",
   "metadata": {
    "scrolled": true
   },
   "outputs": [
    {
     "data": {
      "text/plain": [
       "<AxesSubplot:>"
      ]
     },
     "execution_count": 12,
     "metadata": {},
     "output_type": "execute_result"
    },
    {
     "data": {
      "image/png": "[encoded data removed]",
      "text/plain": [
       "<Figure size 432x288 with 1 Axes>"
      ]
     },
     "metadata": {},
     "output_type": "display_data"
    }
   ],
   "source": [
    "sns.heatmap(Fuga.isnull(),yticklabels=False,cbar=False,cmap='viridis')"
   ]
  },
  {
   "cell_type": "code",
   "execution_count": 13,
   "id": "0ddb2220",
   "metadata": {},
   "outputs": [],
   "source": [
    "Fuga['DEPARTAMENTO'] = Fuga['DEPARTAMENTO'].fillna(Fuga['DEPARTAMENTO'].mode()[0])\n",
    "Fuga['INGRESO_BRUTO_M1'] = Fuga['INGRESO_BRUTO_M1'].fillna(Fuga['INGRESO_BRUTO_M1'].mean())\n",
    "Fuga['FLG_VEH_SF'] = Fuga['FLG_VEH_SF'].fillna(Fuga['FLG_VEH_SF'].mode()[0])\n",
    "Fuga['FLG_CONV_SF'] = Fuga['FLG_CONV_SF'].fillna(Fuga['FLG_CONV_SF'].mode()[0])\n",
    "Fuga['ANT_CLIENTE'] = Fuga['ANT_CLIENTE'].fillna(Fuga['ANT_CLIENTE'].mean())"
   ]
  },
  {
   "cell_type": "code",
   "execution_count": 14,
   "id": "b6289238",
   "metadata": {
    "scrolled": true
   },
   "outputs": [
    {
     "data": {
      "text/plain": [
       "<AxesSubplot:>"
      ]
     },
     "execution_count": 14,
     "metadata": {},
     "output_type": "execute_result"
    },
    {
     "data": {
      "image/png": "[encoded data removed]",
      "text/plain": [
       "<Figure size 432x288 with 1 Axes>"
      ]
     },
     "metadata": {},
     "output_type": "display_data"
    }
   ],
   "source": [
    "sns.heatmap(Fuga.isnull(),yticklabels=False,cbar=False,cmap='viridis')"
   ]
  },
  {
   "cell_type": "markdown",
   "id": "ac919b4d",
   "metadata": {},
   "source": [
    "**ELIMINAMOS VARIABLES QUE NO APORTAN AL MODELO**"
   ]
  },
  {
   "cell_type": "code",
   "execution_count": 15,
   "id": "62785d3d",
   "metadata": {},
   "outputs": [],
   "source": [
    "Fuga.drop(['Unnamed: 0','CODMES','REC_AGENTE_TD'],axis=1,inplace=True)"
   ]
  },
  {
   "cell_type": "code",
   "execution_count": 16,
   "id": "901cfac1",
   "metadata": {},
   "outputs": [],
   "source": [
    "Fuga.drop(['SEGMENTO','PROM_CTD_TRX_6M','DEPARTAMENTO'],axis=1,inplace=True)"
   ]
  },
  {
   "cell_type": "code",
   "execution_count": 17,
   "id": "bc7c43d2",
   "metadata": {},
   "outputs": [],
   "source": [
    "Fugaexcel= Fuga.to_excel(\"df_excel.xlsx\")"
   ]
  },
  {
   "cell_type": "markdown",
   "id": "5efe5116",
   "metadata": {},
   "source": [
    "- **Podemos observar que nuestra data ya no tiene datos nulos**"
   ]
  },
  {
   "cell_type": "code",
   "execution_count": 18,
   "id": "2b02771e",
   "metadata": {},
   "outputs": [
    {
     "data": {
      "text/plain": [
       "<AxesSubplot:>"
      ]
     },
     "execution_count": 18,
     "metadata": {},
     "output_type": "execute_result"
    },
    {
     "data": {
      "image/png": "[encoded data removed]",
      "text/plain": [
       "<Figure size 432x288 with 1 Axes>"
      ]
     },
     "metadata": {},
     "output_type": "display_data"
    }
   ],
   "source": [
    "sns.heatmap(Fuga.isnull(),yticklabels=False,cbar=False,cmap='viridis')"
   ]
  },
  {
   "cell_type": "markdown",
   "id": "67b5d0fb",
   "metadata": {},
   "source": [
    "## GENERAMOS DUMMIES"
   ]
  },
  {
   "cell_type": "code",
   "execution_count": 19,
   "id": "4ea1e9aa",
   "metadata": {},
   "outputs": [],
   "source": [
    "Fuga = pd.get_dummies(Fuga, columns=['SEXO','FLG_CLIENTE']) \n"
   ]
  },
  {
   "cell_type": "code",
   "execution_count": 20,
   "id": "c57cf201",
   "metadata": {},
   "outputs": [
    {
     "name": "stdout",
     "output_type": "stream",
     "text": [
      "<class 'pandas.core.frame.DataFrame'>\n",
      "RangeIndex: 787495 entries, 0 to 787494\n",
      "Data columns (total 16 columns):\n",
      " #   Column                  Non-Null Count   Dtype  \n",
      "---  ------                  --------------   -----  \n",
      " 0   TARGET_MODEL2           787495 non-null  int64  \n",
      " 1   EDAD                    787495 non-null  int64  \n",
      " 2   INGRESO_BRUTO_M1        787495 non-null  float64\n",
      " 3   FLG_ADEL_SUELDO_M1      787495 non-null  int64  \n",
      " 4   FREC_AGENTE             787495 non-null  int64  \n",
      " 5   FLG_VEH_SF              787495 non-null  float64\n",
      " 6   FLG_CONV_SF             787495 non-null  float64\n",
      " 7   FREC_KIOSKO             787495 non-null  int64  \n",
      " 8   FREC_BPI_TD             787495 non-null  int64  \n",
      " 9   FREC_MON_TD             787495 non-null  int64  \n",
      " 10  ANT_CLIENTE             787495 non-null  float64\n",
      " 11  CTD_RECLAMOS_M1         787495 non-null  int64  \n",
      " 12  SEXO_F                  787495 non-null  uint8  \n",
      " 13  SEXO_M                  787495 non-null  uint8  \n",
      " 14  FLG_CLIENTE_CLIENTE     787495 non-null  uint8  \n",
      " 15  FLG_CLIENTE_NO CLIENTE  787495 non-null  uint8  \n",
      "dtypes: float64(4), int64(8), uint8(4)\n",
      "memory usage: 75.1 MB\n"
     ]
    }
   ],
   "source": [
    "Fuga.info()"
   ]
  },
  {
   "cell_type": "markdown",
   "id": "3e65a00a",
   "metadata": {},
   "source": [
    "**COMPONENTES PRINCIPALES**"
   ]
  },
  {
   "cell_type": "markdown",
   "id": "7aa8b866",
   "metadata": {},
   "source": [
    "**IMPORTAMOS**"
   ]
  },
  {
   "cell_type": "code",
   "execution_count": 21,
   "id": "02b97466",
   "metadata": {},
   "outputs": [],
   "source": [
    "import matplotlib.pyplot as plt\n",
    "import matplotlib.font_manager\n",
    "from matplotlib import style\n",
    "style.use('ggplot') or plt.style.use('ggplot')\n"
   ]
  },
  {
   "cell_type": "code",
   "execution_count": 22,
   "id": "99aa262d",
   "metadata": {},
   "outputs": [],
   "source": [
    "import statsmodels.api as sm"
   ]
  },
  {
   "cell_type": "markdown",
   "id": "9d758794",
   "metadata": {},
   "source": [
    "- PROCESAMOS EL MODELO"
   ]
  },
  {
   "cell_type": "code",
   "execution_count": 23,
   "id": "cc3defd9",
   "metadata": {},
   "outputs": [],
   "source": [
    "from sklearn.decomposition import PCA\n",
    "from sklearn.pipeline import make_pipeline\n",
    "from sklearn.preprocessing import StandardScaler\n",
    "from sklearn.preprocessing import scale"
   ]
  },
  {
   "cell_type": "markdown",
   "id": "093c989a",
   "metadata": {},
   "source": [
    "- VARIABLES NUMERICAS"
   ]
  },
  {
   "cell_type": "code",
   "execution_count": 24,
   "id": "a29710c3",
   "metadata": {},
   "outputs": [],
   "source": [
    "numerico=['EDAD','INGRESO_BRUTO_M1','ANT_CLIENTE']"
   ]
  },
  {
   "cell_type": "code",
   "execution_count": 25,
   "id": "8d2eafd0",
   "metadata": {},
   "outputs": [
    {
     "name": "stdout",
     "output_type": "stream",
     "text": [
      "----------------------\n",
      "Media de cada variable\n",
      "----------------------\n"
     ]
    },
    {
     "data": {
      "text/plain": [
       "EDAD                  39.250776\n",
       "INGRESO_BRUTO_M1    2565.256405\n",
       "ANT_CLIENTE          105.254629\n",
       "dtype: float64"
      ]
     },
     "execution_count": 25,
     "metadata": {},
     "output_type": "execute_result"
    }
   ],
   "source": [
    "print('----------------------')\n",
    "print('Media de cada variable')\n",
    "print('----------------------')\n",
    "Fuga[numerico].mean(axis=0)"
   ]
  },
  {
   "cell_type": "code",
   "execution_count": 26,
   "id": "f4458cda",
   "metadata": {},
   "outputs": [
    {
     "name": "stdout",
     "output_type": "stream",
     "text": [
      "-------------------------\n",
      "Varianza de cada variable\n",
      "-------------------------\n"
     ]
    },
    {
     "data": {
      "text/plain": [
       "EDAD                2.481565e+02\n",
       "INGRESO_BRUTO_M1    8.370534e+06\n",
       "ANT_CLIENTE         2.516696e+04\n",
       "dtype: float64"
      ]
     },
     "execution_count": 26,
     "metadata": {},
     "output_type": "execute_result"
    }
   ],
   "source": [
    "print('-------------------------')\n",
    "print('Varianza de cada variable')\n",
    "print('-------------------------')\n",
    "Fuga[numerico].var(axis=0)\n"
   ]
  },
  {
   "cell_type": "markdown",
   "id": "e73ac420",
   "metadata": {},
   "source": [
    "- MODELO PCA"
   ]
  },
  {
   "cell_type": "code",
   "execution_count": 27,
   "id": "b703fec2",
   "metadata": {},
   "outputs": [],
   "source": [
    "pca_pipe = make_pipeline(StandardScaler(), PCA())\n"
   ]
  },
  {
   "cell_type": "code",
   "execution_count": 28,
   "id": "4efbcc6a",
   "metadata": {},
   "outputs": [
    {
     "data": {
      "text/plain": [
       "Pipeline(steps=[('standardscaler', StandardScaler()), ('pca', PCA())])"
      ]
     },
     "execution_count": 28,
     "metadata": {},
     "output_type": "execute_result"
    }
   ],
   "source": [
    "pca_pipe.fit(Fuga[numerico])"
   ]
  },
  {
   "cell_type": "markdown",
   "id": "cbdbbd12",
   "metadata": {},
   "source": [
    "- Se extrae el modelo entrenado del pipeline"
   ]
  },
  {
   "cell_type": "code",
   "execution_count": 29,
   "id": "d02aec0a",
   "metadata": {},
   "outputs": [],
   "source": [
    "modelo_pca = pca_pipe.named_steps['pca']"
   ]
  },
  {
   "cell_type": "markdown",
   "id": "77b119af",
   "metadata": {},
   "source": [
    "- Se combierte el array a dataframe para añadir nombres a los ejes."
   ]
  },
  {
   "cell_type": "code",
   "execution_count": 30,
   "id": "f9b543f9",
   "metadata": {},
   "outputs": [
    {
     "data": {
      "text/html": [
       "<div>\n",
       "<style scoped>\n",
       "    .dataframe tbody tr th:only-of-type {\n",
       "        vertical-align: middle;\n",
       "    }\n",
       "\n",
       "    .dataframe tbody tr th {\n",
       "        vertical-align: top;\n",
       "    }\n",
       "\n",
       "    .dataframe thead th {\n",
       "        text-align: right;\n",
       "    }\n",
       "</style>\n",
       "<table border=\"1\" class=\"dataframe\">\n",
       "  <thead>\n",
       "    <tr style=\"text-align: right;\">\n",
       "      <th></th>\n",
       "      <th>EDAD</th>\n",
       "      <th>INGRESO_BRUTO_M1</th>\n",
       "      <th>ANT_CLIENTE</th>\n",
       "    </tr>\n",
       "  </thead>\n",
       "  <tbody>\n",
       "    <tr>\n",
       "      <th>PC1</th>\n",
       "      <td>0.660908</td>\n",
       "      <td>0.396780</td>\n",
       "      <td>0.636998</td>\n",
       "    </tr>\n",
       "    <tr>\n",
       "      <th>PC2</th>\n",
       "      <td>-0.201757</td>\n",
       "      <td>0.911494</td>\n",
       "      <td>-0.358430</td>\n",
       "    </tr>\n",
       "    <tr>\n",
       "      <th>PC3</th>\n",
       "      <td>-0.722838</td>\n",
       "      <td>0.108370</td>\n",
       "      <td>0.682467</td>\n",
       "    </tr>\n",
       "  </tbody>\n",
       "</table>\n",
       "</div>"
      ],
      "text/plain": [
       "         EDAD  INGRESO_BRUTO_M1  ANT_CLIENTE\n",
       "PC1  0.660908          0.396780     0.636998\n",
       "PC2 -0.201757          0.911494    -0.358430\n",
       "PC3 -0.722838          0.108370     0.682467"
      ]
     },
     "execution_count": 30,
     "metadata": {},
     "output_type": "execute_result"
    }
   ],
   "source": [
    "pd.DataFrame(\n",
    "    data    = modelo_pca.components_,\n",
    "    columns = Fuga[numerico].columns,\n",
    "    index   = ['PC1', 'PC2', 'PC3']\n",
    ")"
   ]
  },
  {
   "cell_type": "code",
   "execution_count": 31,
   "id": "9795ce70",
   "metadata": {},
   "outputs": [
    {
     "data": {
      "image/png": "[encoded data removed]",
      "text/plain": [
       "<Figure size 288x144 with 2 Axes>"
      ]
     },
     "metadata": {},
     "output_type": "display_data"
    }
   ],
   "source": [
    "fig, ax = plt.subplots(nrows=1, ncols=1, figsize=(4, 2))\n",
    "componentes = modelo_pca.components_\n",
    "plt.imshow(componentes.T, cmap='viridis', aspect='auto')\n",
    "plt.yticks(range(len(Fuga[numerico].columns)), Fuga[numerico].columns)\n",
    "plt.xticks(range(len(Fuga[numerico].columns)), np.arange(modelo_pca.n_components_) + 1)\n",
    "plt.grid(False)\n",
    "plt.colorbar();"
   ]
  },
  {
   "cell_type": "markdown",
   "id": "1c9c3abc",
   "metadata": {},
   "source": [
    "- Una vez calculadas las componentes principales, se puede conocer la varianza explicada por cada una de ellas, la proporción respecto al total y la proporción de varianza acumulada."
   ]
  },
  {
   "cell_type": "code",
   "execution_count": 32,
   "id": "35a86499",
   "metadata": {},
   "outputs": [
    {
     "name": "stdout",
     "output_type": "stream",
     "text": [
      "----------------------------------------------------\n",
      "Porcentaje de varianza explicada por cada componente\n",
      "----------------------------------------------------\n",
      "[0.44911278 0.31273953 0.23814769]\n"
     ]
    },
    {
     "data": {
      "image/png": "[encoded data removed]",
      "text/plain": [
       "<Figure size 432x288 with 1 Axes>"
      ]
     },
     "metadata": {},
     "output_type": "display_data"
    }
   ],
   "source": [
    "print('----------------------------------------------------')\n",
    "print('Porcentaje de varianza explicada por cada componente')\n",
    "print('----------------------------------------------------')\n",
    "print(modelo_pca.explained_variance_ratio_)\n",
    "\n",
    "fig, ax = plt.subplots(nrows=1, ncols=1, figsize=(6, 4))\n",
    "ax.bar(\n",
    "    x      = np.arange(modelo_pca.n_components_) + 1,\n",
    "    height = modelo_pca.explained_variance_ratio_\n",
    ")\n",
    "\n",
    "for x, y in zip(np.arange(len(Fuga[numerico].columns)) + 1, modelo_pca.explained_variance_ratio_):\n",
    "    label = round(y, 2)\n",
    "    ax.annotate(\n",
    "        label,\n",
    "        (x,y),\n",
    "        textcoords=\"offset points\",\n",
    "        xytext=(0,10),\n",
    "        ha='center'\n",
    "    )\n",
    "\n",
    "ax.set_xticks(np.arange(modelo_pca.n_components_) + 1)\n",
    "ax.set_ylim(0, 1.1)\n",
    "ax.set_title('Porcentaje de varianza explicada por cada componente')\n",
    "ax.set_xlabel('Componente principal')\n",
    "ax.set_ylabel('Por. varianza explicada');\n"
   ]
  },
  {
   "cell_type": "markdown",
   "id": "68e64bcf",
   "metadata": {},
   "source": [
    "- En este caso, la primera componente explica el 45% de la varianza observada en los datos y la segunda el 31%."
   ]
  },
  {
   "cell_type": "markdown",
   "id": "f5afbe05",
   "metadata": {},
   "source": [
    "- Porcentaje de varianza explicada acumulada"
   ]
  },
  {
   "cell_type": "code",
   "execution_count": 33,
   "id": "1ff28b68",
   "metadata": {
    "scrolled": true
   },
   "outputs": [
    {
     "name": "stdout",
     "output_type": "stream",
     "text": [
      "------------------------------------------\n",
      "Porcentaje de varianza explicada acumulada\n",
      "------------------------------------------\n",
      "[0.44911278 0.76185231 1.        ]\n"
     ]
    },
    {
     "data": {
      "image/png": "[encoded data removed]",
      "text/plain": [
       "<Figure size 432x288 with 1 Axes>"
      ]
     },
     "metadata": {},
     "output_type": "display_data"
    }
   ],
   "source": [
    "prop_varianza_acum = modelo_pca.explained_variance_ratio_.cumsum()\n",
    "print('------------------------------------------')\n",
    "print('Porcentaje de varianza explicada acumulada')\n",
    "print('------------------------------------------')\n",
    "print(prop_varianza_acum)\n",
    "\n",
    "fig, ax = plt.subplots(nrows=1, ncols=1, figsize=(6, 4))\n",
    "ax.plot(\n",
    "    np.arange(len(Fuga[numerico].columns)) + 1,\n",
    "    prop_varianza_acum,\n",
    "    marker = 'o'\n",
    ")\n",
    "\n",
    "for x, y in zip(np.arange(len(Fuga[numerico].columns)) + 1, prop_varianza_acum):\n",
    "    label = round(y, 2)\n",
    "    ax.annotate(\n",
    "        label,\n",
    "        (x,y),\n",
    "        textcoords=\"offset points\",\n",
    "        xytext=(0,10),\n",
    "        ha='center'\n",
    "    )\n",
    "    \n",
    "ax.set_ylim(0, 1.1)\n",
    "ax.set_xticks(np.arange(modelo_pca.n_components_) + 1)\n",
    "ax.set_title('Porcentaje de varianza explicada acumulada')\n",
    "ax.set_xlabel('Componente principal')\n",
    "ax.set_ylabel('Por. varianza acumulada');"
   ]
  },
  {
   "cell_type": "markdown",
   "id": "97a8a7ab",
   "metadata": {},
   "source": [
    "- Proyección de las observaciones de entrenamiento"
   ]
  },
  {
   "cell_type": "code",
   "execution_count": 34,
   "id": "14d786d2",
   "metadata": {},
   "outputs": [
    {
     "data": {
      "text/html": [
       "<div>\n",
       "<style scoped>\n",
       "    .dataframe tbody tr th:only-of-type {\n",
       "        vertical-align: middle;\n",
       "    }\n",
       "\n",
       "    .dataframe tbody tr th {\n",
       "        vertical-align: top;\n",
       "    }\n",
       "\n",
       "    .dataframe thead th {\n",
       "        text-align: right;\n",
       "    }\n",
       "</style>\n",
       "<table border=\"1\" class=\"dataframe\">\n",
       "  <thead>\n",
       "    <tr style=\"text-align: right;\">\n",
       "      <th></th>\n",
       "      <th>PC1</th>\n",
       "      <th>PC2</th>\n",
       "      <th>PC3</th>\n",
       "    </tr>\n",
       "  </thead>\n",
       "  <tbody>\n",
       "    <tr>\n",
       "      <th>0</th>\n",
       "      <td>0.759964</td>\n",
       "      <td>-0.354732</td>\n",
       "      <td>0.201144</td>\n",
       "    </tr>\n",
       "    <tr>\n",
       "      <th>1</th>\n",
       "      <td>0.985283</td>\n",
       "      <td>0.449224</td>\n",
       "      <td>-0.519805</td>\n",
       "    </tr>\n",
       "    <tr>\n",
       "      <th>2</th>\n",
       "      <td>2.388984</td>\n",
       "      <td>-0.893373</td>\n",
       "      <td>-1.232781</td>\n",
       "    </tr>\n",
       "    <tr>\n",
       "      <th>3</th>\n",
       "      <td>0.525304</td>\n",
       "      <td>-0.904913</td>\n",
       "      <td>0.491437</td>\n",
       "    </tr>\n",
       "    <tr>\n",
       "      <th>4</th>\n",
       "      <td>1.617946</td>\n",
       "      <td>0.513270</td>\n",
       "      <td>0.216418</td>\n",
       "    </tr>\n",
       "  </tbody>\n",
       "</table>\n",
       "</div>"
      ],
      "text/plain": [
       "        PC1       PC2       PC3\n",
       "0  0.759964 -0.354732  0.201144\n",
       "1  0.985283  0.449224 -0.519805\n",
       "2  2.388984 -0.893373 -1.232781\n",
       "3  0.525304 -0.904913  0.491437\n",
       "4  1.617946  0.513270  0.216418"
      ]
     },
     "execution_count": 34,
     "metadata": {},
     "output_type": "execute_result"
    }
   ],
   "source": [
    "proyecciones = pca_pipe.transform(X=Fuga[numerico])\n",
    "proyecciones = pd.DataFrame(\n",
    "    proyecciones,\n",
    "    columns = ['PC1', 'PC2', 'PC3'],\n",
    "    index   = Fuga[numerico].index\n",
    ")\n",
    "proyecciones.head()"
   ]
  },
  {
   "cell_type": "code",
   "execution_count": 35,
   "id": "fa9a089c",
   "metadata": {},
   "outputs": [
    {
     "data": {
      "text/plain": [
       "(787495, 3)"
      ]
     },
     "execution_count": 35,
     "metadata": {},
     "output_type": "execute_result"
    }
   ],
   "source": [
    "proyecciones.shape"
   ]
  },
  {
   "cell_type": "code",
   "execution_count": 36,
   "id": "13988089",
   "metadata": {},
   "outputs": [],
   "source": [
    "fuga = pd.concat([Fuga, proyecciones], axis = 1)\n"
   ]
  },
  {
   "cell_type": "code",
   "execution_count": 37,
   "id": "e0a2888f",
   "metadata": {},
   "outputs": [],
   "source": [
    "fuga.drop(['PC3','EDAD','INGRESO_BRUTO_M1','ANT_CLIENTE'],axis=1,inplace=True)"
   ]
  },
  {
   "cell_type": "code",
   "execution_count": 38,
   "id": "827015a3",
   "metadata": {},
   "outputs": [
    {
     "data": {
      "text/html": [
       "<div>\n",
       "<style scoped>\n",
       "    .dataframe tbody tr th:only-of-type {\n",
       "        vertical-align: middle;\n",
       "    }\n",
       "\n",
       "    .dataframe tbody tr th {\n",
       "        vertical-align: top;\n",
       "    }\n",
       "\n",
       "    .dataframe thead th {\n",
       "        text-align: right;\n",
       "    }\n",
       "</style>\n",
       "<table border=\"1\" class=\"dataframe\">\n",
       "  <thead>\n",
       "    <tr style=\"text-align: right;\">\n",
       "      <th></th>\n",
       "      <th>TARGET_MODEL2</th>\n",
       "      <th>FLG_ADEL_SUELDO_M1</th>\n",
       "      <th>FREC_AGENTE</th>\n",
       "      <th>FLG_VEH_SF</th>\n",
       "      <th>FLG_CONV_SF</th>\n",
       "      <th>FREC_KIOSKO</th>\n",
       "      <th>FREC_BPI_TD</th>\n",
       "      <th>FREC_MON_TD</th>\n",
       "      <th>CTD_RECLAMOS_M1</th>\n",
       "      <th>SEXO_F</th>\n",
       "      <th>SEXO_M</th>\n",
       "      <th>FLG_CLIENTE_CLIENTE</th>\n",
       "      <th>FLG_CLIENTE_NO CLIENTE</th>\n",
       "      <th>PC1</th>\n",
       "      <th>PC2</th>\n",
       "    </tr>\n",
       "  </thead>\n",
       "  <tbody>\n",
       "    <tr>\n",
       "      <th>0</th>\n",
       "      <td>0</td>\n",
       "      <td>0</td>\n",
       "      <td>0</td>\n",
       "      <td>0.0</td>\n",
       "      <td>0.0</td>\n",
       "      <td>0</td>\n",
       "      <td>0</td>\n",
       "      <td>0</td>\n",
       "      <td>0</td>\n",
       "      <td>1</td>\n",
       "      <td>0</td>\n",
       "      <td>0</td>\n",
       "      <td>1</td>\n",
       "      <td>0.759964</td>\n",
       "      <td>-0.354732</td>\n",
       "    </tr>\n",
       "    <tr>\n",
       "      <th>1</th>\n",
       "      <td>0</td>\n",
       "      <td>0</td>\n",
       "      <td>0</td>\n",
       "      <td>0.0</td>\n",
       "      <td>1.0</td>\n",
       "      <td>0</td>\n",
       "      <td>0</td>\n",
       "      <td>0</td>\n",
       "      <td>0</td>\n",
       "      <td>0</td>\n",
       "      <td>1</td>\n",
       "      <td>1</td>\n",
       "      <td>0</td>\n",
       "      <td>0.985283</td>\n",
       "      <td>0.449224</td>\n",
       "    </tr>\n",
       "    <tr>\n",
       "      <th>2</th>\n",
       "      <td>0</td>\n",
       "      <td>0</td>\n",
       "      <td>0</td>\n",
       "      <td>0.0</td>\n",
       "      <td>0.0</td>\n",
       "      <td>0</td>\n",
       "      <td>0</td>\n",
       "      <td>0</td>\n",
       "      <td>0</td>\n",
       "      <td>0</td>\n",
       "      <td>1</td>\n",
       "      <td>1</td>\n",
       "      <td>0</td>\n",
       "      <td>2.388984</td>\n",
       "      <td>-0.893373</td>\n",
       "    </tr>\n",
       "    <tr>\n",
       "      <th>3</th>\n",
       "      <td>0</td>\n",
       "      <td>0</td>\n",
       "      <td>0</td>\n",
       "      <td>0.0</td>\n",
       "      <td>0.0</td>\n",
       "      <td>0</td>\n",
       "      <td>0</td>\n",
       "      <td>0</td>\n",
       "      <td>0</td>\n",
       "      <td>0</td>\n",
       "      <td>1</td>\n",
       "      <td>1</td>\n",
       "      <td>0</td>\n",
       "      <td>0.525304</td>\n",
       "      <td>-0.904913</td>\n",
       "    </tr>\n",
       "    <tr>\n",
       "      <th>4</th>\n",
       "      <td>0</td>\n",
       "      <td>0</td>\n",
       "      <td>0</td>\n",
       "      <td>0.0</td>\n",
       "      <td>0.0</td>\n",
       "      <td>0</td>\n",
       "      <td>0</td>\n",
       "      <td>0</td>\n",
       "      <td>0</td>\n",
       "      <td>0</td>\n",
       "      <td>1</td>\n",
       "      <td>1</td>\n",
       "      <td>0</td>\n",
       "      <td>1.617946</td>\n",
       "      <td>0.513270</td>\n",
       "    </tr>\n",
       "  </tbody>\n",
       "</table>\n",
       "</div>"
      ],
      "text/plain": [
       "   TARGET_MODEL2  FLG_ADEL_SUELDO_M1  FREC_AGENTE  FLG_VEH_SF  FLG_CONV_SF  \\\n",
       "0              0                   0            0         0.0          0.0   \n",
       "1              0                   0            0         0.0          1.0   \n",
       "2              0                   0            0         0.0          0.0   \n",
       "3              0                   0            0         0.0          0.0   \n",
       "4              0                   0            0         0.0          0.0   \n",
       "\n",
       "   FREC_KIOSKO  FREC_BPI_TD  FREC_MON_TD  CTD_RECLAMOS_M1  SEXO_F  SEXO_M  \\\n",
       "0            0            0            0                0       1       0   \n",
       "1            0            0            0                0       0       1   \n",
       "2            0            0            0                0       0       1   \n",
       "3            0            0            0                0       0       1   \n",
       "4            0            0            0                0       0       1   \n",
       "\n",
       "   FLG_CLIENTE_CLIENTE  FLG_CLIENTE_NO CLIENTE       PC1       PC2  \n",
       "0                    0                       1  0.759964 -0.354732  \n",
       "1                    1                       0  0.985283  0.449224  \n",
       "2                    1                       0  2.388984 -0.893373  \n",
       "3                    1                       0  0.525304 -0.904913  \n",
       "4                    1                       0  1.617946  0.513270  "
      ]
     },
     "execution_count": 38,
     "metadata": {},
     "output_type": "execute_result"
    }
   ],
   "source": [
    "fuga.head()"
   ]
  },
  {
   "cell_type": "markdown",
   "id": "16a029bc",
   "metadata": {},
   "source": [
    "## BALANCEO DE DATOS"
   ]
  },
  {
   "cell_type": "markdown",
   "id": "0ada1c5f",
   "metadata": {},
   "source": [
    "- **INSTALAMOS**"
   ]
  },
  {
   "cell_type": "code",
   "execution_count": 39,
   "id": "82cd7afd",
   "metadata": {},
   "outputs": [
    {
     "name": "stdout",
     "output_type": "stream",
     "text": [
      "Requirement already satisfied: imblearn in c:\\users\\fiore\\anaconda3\\lib\\site-packages (0.0)\n",
      "Requirement already satisfied: imbalanced-learn in c:\\users\\fiore\\anaconda3\\lib\\site-packages (from imblearn) (0.8.1)\n",
      "Requirement already satisfied: scipy>=0.19.1 in c:\\users\\fiore\\anaconda3\\lib\\site-packages (from imbalanced-learn->imblearn) (1.6.2)\n",
      "Requirement already satisfied: numpy>=1.13.3 in c:\\users\\fiore\\anaconda3\\lib\\site-packages (from imbalanced-learn->imblearn) (1.20.1)\n",
      "Requirement already satisfied: scikit-learn>=0.24 in c:\\users\\fiore\\anaconda3\\lib\\site-packages (from imbalanced-learn->imblearn) (0.24.1)\n",
      "Requirement already satisfied: joblib>=0.11 in c:\\users\\fiore\\anaconda3\\lib\\site-packages (from imbalanced-learn->imblearn) (1.0.1)\n",
      "Requirement already satisfied: threadpoolctl>=2.0.0 in c:\\users\\fiore\\anaconda3\\lib\\site-packages (from scikit-learn>=0.24->imbalanced-learn->imblearn) (2.1.0)\n",
      "Note: you may need to restart the kernel to use updated packages.\n"
     ]
    }
   ],
   "source": [
    "pip install imblearn"
   ]
  },
  {
   "cell_type": "code",
   "execution_count": 40,
   "id": "5e0d88e7",
   "metadata": {},
   "outputs": [],
   "source": [
    "from imblearn.over_sampling import SMOTE"
   ]
  },
  {
   "cell_type": "code",
   "execution_count": 41,
   "id": "f5d25d8b",
   "metadata": {},
   "outputs": [],
   "source": [
    "y=fuga['TARGET_MODEL2']\n",
    "X=fuga.drop(['TARGET_MODEL2'],axis=1)"
   ]
  },
  {
   "cell_type": "code",
   "execution_count": 42,
   "id": "942e78a0",
   "metadata": {},
   "outputs": [],
   "source": [
    "from sklearn.model_selection import train_test_split"
   ]
  },
  {
   "cell_type": "code",
   "execution_count": 43,
   "id": "92669d93",
   "metadata": {},
   "outputs": [],
   "source": [
    "X_train, X_test, y_train, y_test = train_test_split(X,y, test_size=0.30,random_state=101,stratify=y)"
   ]
  },
  {
   "cell_type": "markdown",
   "id": "fe6908c0",
   "metadata": {},
   "source": [
    "- Contamos:"
   ]
  },
  {
   "cell_type": "code",
   "execution_count": 44,
   "id": "b92ba4df",
   "metadata": {},
   "outputs": [
    {
     "name": "stdout",
     "output_type": "stream",
     "text": [
      "Counter({0: 520624, 1: 30622})\n"
     ]
    }
   ],
   "source": [
    "from collections import Counter\n",
    "counter = Counter(y_train)\n",
    "print(counter)"
   ]
  },
  {
   "cell_type": "markdown",
   "id": "811283fd",
   "metadata": {},
   "source": [
    "- Balanceo:"
   ]
  },
  {
   "cell_type": "code",
   "execution_count": 45,
   "id": "33dbb834",
   "metadata": {},
   "outputs": [],
   "source": [
    "os = SMOTE(random_state = 0)"
   ]
  },
  {
   "cell_type": "code",
   "execution_count": 46,
   "id": "14599dee",
   "metadata": {},
   "outputs": [],
   "source": [
    "os_data_X, os_data_y = os.fit_resample(X_train.values, y_train.values)"
   ]
  },
  {
   "cell_type": "code",
   "execution_count": 47,
   "id": "18ef66e9",
   "metadata": {},
   "outputs": [
    {
     "name": "stdout",
     "output_type": "stream",
     "text": [
      "Counter({0: 520624, 1: 520624})\n"
     ]
    }
   ],
   "source": [
    "counter = Counter(os_data_y)\n",
    "print(counter)"
   ]
  },
  {
   "cell_type": "markdown",
   "id": "7eeda600",
   "metadata": {},
   "source": [
    "- Modelos de Machine Learning"
   ]
  },
  {
   "cell_type": "code",
   "execution_count": 48,
   "id": "0608f513",
   "metadata": {},
   "outputs": [],
   "source": [
    "from sklearn import preprocessing\n",
    "from sklearn.model_selection import StratifiedKFold\n",
    "from sklearn.model_selection import train_test_split\n",
    "\n",
    "\n",
    "## Métricas de los modelos\n",
    "from sklearn.metrics import confusion_matrix\n",
    "from sklearn.metrics import auc\n",
    "from sklearn.metrics import accuracy_score\n",
    "from sklearn.metrics import precision_score\n",
    "from sklearn.metrics import recall_score\n",
    "from sklearn.metrics import roc_auc_score\n"
   ]
  },
  {
   "cell_type": "code",
   "execution_count": 49,
   "id": "1233a636",
   "metadata": {},
   "outputs": [
    {
     "name": "stdout",
     "output_type": "stream",
     "text": [
      "Requirement already satisfied: lightgbm in c:\\users\\fiore\\anaconda3\\lib\\site-packages (3.3.0)\n",
      "Requirement already satisfied: numpy in c:\\users\\fiore\\anaconda3\\lib\\site-packages (from lightgbm) (1.20.1)\n",
      "Requirement already satisfied: wheel in c:\\users\\fiore\\anaconda3\\lib\\site-packages (from lightgbm) (0.36.2)\n",
      "Requirement already satisfied: scipy in c:\\users\\fiore\\anaconda3\\lib\\site-packages (from lightgbm) (1.6.2)\n",
      "Requirement already satisfied: scikit-learn!=0.22.0 in c:\\users\\fiore\\anaconda3\\lib\\site-packages (from lightgbm) (0.24.1)\n",
      "Requirement already satisfied: joblib>=0.11 in c:\\users\\fiore\\anaconda3\\lib\\site-packages (from scikit-learn!=0.22.0->lightgbm) (1.0.1)\n",
      "Requirement already satisfied: threadpoolctl>=2.0.0 in c:\\users\\fiore\\anaconda3\\lib\\site-packages (from scikit-learn!=0.22.0->lightgbm) (2.1.0)\n"
     ]
    }
   ],
   "source": [
    "get_ipython().system('pip install lightgbm')"
   ]
  },
  {
   "cell_type": "code",
   "execution_count": 50,
   "id": "ffeae647",
   "metadata": {},
   "outputs": [],
   "source": [
    "\n",
    "from lightgbm import LGBMClassifier"
   ]
  },
  {
   "cell_type": "code",
   "execution_count": 51,
   "id": "4e1ddd9b",
   "metadata": {},
   "outputs": [],
   "source": [
    "model_lgbm = LGBMClassifier()"
   ]
  },
  {
   "cell_type": "markdown",
   "id": "2b60c445",
   "metadata": {},
   "source": [
    "- Entreno el modelo con el .fit"
   ]
  },
  {
   "cell_type": "code",
   "execution_count": 52,
   "id": "ff2bc8f7",
   "metadata": {},
   "outputs": [
    {
     "data": {
      "text/plain": [
       "LGBMClassifier()"
      ]
     },
     "execution_count": 52,
     "metadata": {},
     "output_type": "execute_result"
    }
   ],
   "source": [
    "model_lgbm.fit(os_data_X,os_data_y.ravel())"
   ]
  },
  {
   "cell_type": "markdown",
   "id": "c62d126b",
   "metadata": {},
   "source": [
    "- Ordenando las mejores variables de mayor a menor generando un bucle en este caso un for para extraer los nombres de las columnas y la ganancia(Gain) de las variables mas impactantes"
   ]
  },
  {
   "cell_type": "code",
   "execution_count": 53,
   "id": "a1d5b530",
   "metadata": {},
   "outputs": [],
   "source": [
    "features = []\n",
    "for feature in zip(X.columns, model_lgbm.feature_importances_):\n",
    "    features.append(feature)"
   ]
  },
  {
   "cell_type": "markdown",
   "id": "96d7c6de",
   "metadata": {},
   "source": [
    "- Genero un dataframe para visualizar mejor lo que hizo random forest con su selector multivariado"
   ]
  },
  {
   "cell_type": "code",
   "execution_count": 54,
   "id": "4181e659",
   "metadata": {},
   "outputs": [
    {
     "data": {
      "text/html": [
       "<div>\n",
       "<style scoped>\n",
       "    .dataframe tbody tr th:only-of-type {\n",
       "        vertical-align: middle;\n",
       "    }\n",
       "\n",
       "    .dataframe tbody tr th {\n",
       "        vertical-align: top;\n",
       "    }\n",
       "\n",
       "    .dataframe thead th {\n",
       "        text-align: right;\n",
       "    }\n",
       "</style>\n",
       "<table border=\"1\" class=\"dataframe\">\n",
       "  <thead>\n",
       "    <tr style=\"text-align: right;\">\n",
       "      <th></th>\n",
       "      <th>Variables</th>\n",
       "      <th>Gain</th>\n",
       "    </tr>\n",
       "  </thead>\n",
       "  <tbody>\n",
       "    <tr>\n",
       "      <th>13</th>\n",
       "      <td>PC2</td>\n",
       "      <td>498</td>\n",
       "    </tr>\n",
       "    <tr>\n",
       "      <th>12</th>\n",
       "      <td>PC1</td>\n",
       "      <td>488</td>\n",
       "    </tr>\n",
       "    <tr>\n",
       "      <th>1</th>\n",
       "      <td>FREC_AGENTE</td>\n",
       "      <td>402</td>\n",
       "    </tr>\n",
       "    <tr>\n",
       "      <th>6</th>\n",
       "      <td>FREC_MON_TD</td>\n",
       "      <td>374</td>\n",
       "    </tr>\n",
       "    <tr>\n",
       "      <th>5</th>\n",
       "      <td>FREC_BPI_TD</td>\n",
       "      <td>355</td>\n",
       "    </tr>\n",
       "    <tr>\n",
       "      <th>4</th>\n",
       "      <td>FREC_KIOSKO</td>\n",
       "      <td>326</td>\n",
       "    </tr>\n",
       "    <tr>\n",
       "      <th>8</th>\n",
       "      <td>SEXO_F</td>\n",
       "      <td>127</td>\n",
       "    </tr>\n",
       "    <tr>\n",
       "      <th>0</th>\n",
       "      <td>FLG_ADEL_SUELDO_M1</td>\n",
       "      <td>126</td>\n",
       "    </tr>\n",
       "    <tr>\n",
       "      <th>3</th>\n",
       "      <td>FLG_CONV_SF</td>\n",
       "      <td>101</td>\n",
       "    </tr>\n",
       "    <tr>\n",
       "      <th>10</th>\n",
       "      <td>FLG_CLIENTE_CLIENTE</td>\n",
       "      <td>96</td>\n",
       "    </tr>\n",
       "    <tr>\n",
       "      <th>2</th>\n",
       "      <td>FLG_VEH_SF</td>\n",
       "      <td>61</td>\n",
       "    </tr>\n",
       "    <tr>\n",
       "      <th>11</th>\n",
       "      <td>FLG_CLIENTE_NO CLIENTE</td>\n",
       "      <td>20</td>\n",
       "    </tr>\n",
       "    <tr>\n",
       "      <th>9</th>\n",
       "      <td>SEXO_M</td>\n",
       "      <td>14</td>\n",
       "    </tr>\n",
       "    <tr>\n",
       "      <th>7</th>\n",
       "      <td>CTD_RECLAMOS_M1</td>\n",
       "      <td>12</td>\n",
       "    </tr>\n",
       "  </tbody>\n",
       "</table>\n",
       "</div>"
      ],
      "text/plain": [
       "                 Variables  Gain\n",
       "13                     PC2   498\n",
       "12                     PC1   488\n",
       "1              FREC_AGENTE   402\n",
       "6              FREC_MON_TD   374\n",
       "5              FREC_BPI_TD   355\n",
       "4              FREC_KIOSKO   326\n",
       "8                   SEXO_F   127\n",
       "0       FLG_ADEL_SUELDO_M1   126\n",
       "3              FLG_CONV_SF   101\n",
       "10     FLG_CLIENTE_CLIENTE    96\n",
       "2               FLG_VEH_SF    61\n",
       "11  FLG_CLIENTE_NO CLIENTE    20\n",
       "9                   SEXO_M    14\n",
       "7          CTD_RECLAMOS_M1    12"
      ]
     },
     "execution_count": 54,
     "metadata": {},
     "output_type": "execute_result"
    }
   ],
   "source": [
    "features_total = pd.DataFrame(features,columns=['Variables','Gain']).sort_values('Gain', ascending=False)\n",
    "features_total"
   ]
  },
  {
   "cell_type": "code",
   "execution_count": 55,
   "id": "80eacd2d",
   "metadata": {},
   "outputs": [],
   "source": [
    "from sklearn.feature_selection import SelectFromModel"
   ]
  },
  {
   "cell_type": "markdown",
   "id": "29e01d09",
   "metadata": {},
   "source": [
    "- Uso SelectFromModel poniendo lo parametros del modelo que se contruyo y un␣threshold que es un punto de corte quepuede asumir de acuerdo a tu criterio con respecto a las variables que estén␣generando mas Gain"
   ]
  },
  {
   "cell_type": "code",
   "execution_count": 56,
   "id": "be44b8ae",
   "metadata": {},
   "outputs": [],
   "source": [
    "sfm = SelectFromModel(model_lgbm, threshold=100)"
   ]
  },
  {
   "cell_type": "code",
   "execution_count": 57,
   "id": "fc30b187",
   "metadata": {},
   "outputs": [
    {
     "data": {
      "text/plain": [
       "SelectFromModel(estimator=LGBMClassifier(), threshold=100)"
      ]
     },
     "execution_count": 57,
     "metadata": {},
     "output_type": "execute_result"
    }
   ],
   "source": [
    "sfm.fit(X, y)"
   ]
  },
  {
   "cell_type": "markdown",
   "id": "97456b2a",
   "metadata": {},
   "source": [
    "- contruyo una lista para quedarme con las mejores variables"
   ]
  },
  {
   "cell_type": "code",
   "execution_count": 58,
   "id": "b6d6732a",
   "metadata": {},
   "outputs": [],
   "source": [
    "variables = []\n",
    "for feature_list_index in sfm.get_support(indices=True):\n",
    "    variables.append(X.columns[feature_list_index])"
   ]
  },
  {
   "cell_type": "code",
   "execution_count": 59,
   "id": "6803e6c5",
   "metadata": {},
   "outputs": [
    {
     "data": {
      "text/plain": [
       "['FREC_AGENTE',\n",
       " 'FREC_KIOSKO',\n",
       " 'FREC_BPI_TD',\n",
       " 'FREC_MON_TD',\n",
       " 'SEXO_F',\n",
       " 'FLG_CLIENTE_CLIENTE',\n",
       " 'PC1',\n",
       " 'PC2']"
      ]
     },
     "execution_count": 59,
     "metadata": {},
     "output_type": "execute_result"
    }
   ],
   "source": [
    "variables"
   ]
  },
  {
   "cell_type": "code",
   "execution_count": 60,
   "id": "0720e450",
   "metadata": {},
   "outputs": [],
   "source": [
    "best_X_train = X_train[variables]\n",
    "best_X_test = X_test[variables]"
   ]
  },
  {
   "cell_type": "code",
   "execution_count": 61,
   "id": "a54ff625",
   "metadata": {},
   "outputs": [
    {
     "name": "stdout",
     "output_type": "stream",
     "text": [
      "auc o Roc on training in LGBMClassifier data : 0.731\n",
      "auc o Roc on testing in LGBMClassifier data : 0.710\n"
     ]
    }
   ],
   "source": [
    " from time import time\n",
    "# construimos un lightgbm, ojo que para elY es el mismo porque es un vector univariado\n",
    "best_model = LGBMClassifier()\n",
    "best_model.fit(best_X_train, y_train)\n",
    "# predecimos el train y test con la probabilidad para validar luego\n",
    "predict_train_lg = best_model.predict_proba(best_X_train)[:,1]\n",
    "predict_test_lg = best_model.predict_proba(best_X_test)[:,1]\n",
    "# imprimimos el roc de train y test con la data real y la prediccion de la probabilidad del modelo\n",
    "print(\"auc o Roc on training in LGBMClassifier data : {:.3f}\".format(roc_auc_score(y_train, predict_train_lg)))\n",
    "print(\"auc o Roc on testing in LGBMClassifier data : {:.3f}\".format(roc_auc_score(y_test, predict_test_lg)))\n"
   ]
  },
  {
   "cell_type": "code",
   "execution_count": 74,
   "id": "22e9fd29",
   "metadata": {},
   "outputs": [
    {
     "data": {
      "text/plain": [
       "array([0.00526942, 0.10390554, 0.03406695, 0.13159886, 0.09900705])"
      ]
     },
     "execution_count": 74,
     "metadata": {},
     "output_type": "execute_result"
    }
   ],
   "source": [
    "predict_train_lg[0:5]"
   ]
  },
  {
   "cell_type": "code",
   "execution_count": 62,
   "id": "9ad4263d",
   "metadata": {},
   "outputs": [],
   "source": [
    "from sklearn.model_selection import train_test_split, GridSearchCV\n",
    "from sklearn.metrics import accuracy_score"
   ]
  },
  {
   "cell_type": "code",
   "execution_count": 63,
   "id": "d628114c",
   "metadata": {},
   "outputs": [
    {
     "name": "stdout",
     "output_type": "stream",
     "text": [
      "Parameters currently in use:\n",
      "\n",
      "{'boosting_type': 'gbdt',\n",
      " 'class_weight': None,\n",
      " 'colsample_bytree': 1.0,\n",
      " 'importance_type': 'split',\n",
      " 'learning_rate': 0.1,\n",
      " 'max_depth': -1,\n",
      " 'min_child_samples': 20,\n",
      " 'min_child_weight': 0.001,\n",
      " 'min_split_gain': 0.0,\n",
      " 'n_estimators': 100,\n",
      " 'n_jobs': -1,\n",
      " 'num_leaves': 31,\n",
      " 'objective': None,\n",
      " 'random_state': None,\n",
      " 'reg_alpha': 0.0,\n",
      " 'reg_lambda': 0.0,\n",
      " 'silent': 'warn',\n",
      " 'subsample': 1.0,\n",
      " 'subsample_for_bin': 200000,\n",
      " 'subsample_freq': 0}\n"
     ]
    }
   ],
   "source": [
    " from pprint import pprint\n",
    "# Mostramos todos los parametros que tiene ligthGBMlo usamos porque es mas rápido para tunear el modelo\n",
    "print('Parameters currently in use:\\n')\n",
    "pprint(best_model.get_params())\n"
   ]
  },
  {
   "cell_type": "code",
   "execution_count": 64,
   "id": "bfda76e0",
   "metadata": {},
   "outputs": [
    {
     "name": "stdout",
     "output_type": "stream",
     "text": [
      "{'colsample_bytree': [0.7, 0.8, 0.9],\n",
      " 'iterations': [300, 400, 500],\n",
      " 'learning_rate': [0.1, 0.15, 0.2],\n",
      " 'max_depth': [4, 6, 8]}\n"
     ]
    }
   ],
   "source": [
    " # Numero de arboles\n",
    "iterations = [300, 400, 500]\n",
    "# porcentaje de variables con la que se contruye un arbol\n",
    "colsample_bytree = [0.7, 0.8, 0.9]\n",
    "# profundidad del arbol\n",
    "max_depth = [4, 6, 8]\n",
    "# ratio de aprendizaje por cada arbol\n",
    "learning_rate = [0.1, 0.15 ,0.2]\n",
    "# creacion del grip search o grilla generando un diccionario\n",
    "param_grid = {'iterations': iterations,\n",
    "'colsample_bytree': colsample_bytree,\n",
    "'max_depth': max_depth,\n",
    "'learning_rate': learning_rate}\n",
    "pprint(param_grid)"
   ]
  },
  {
   "cell_type": "code",
   "execution_count": 65,
   "id": "6199e6a3",
   "metadata": {},
   "outputs": [
    {
     "name": "stdout",
     "output_type": "stream",
     "text": [
      "Fitting 5 folds for each of 81 candidates, totalling 405 fits\n",
      "[LightGBM] [Warning] Unknown parameter: iterations\n"
     ]
    },
    {
     "data": {
      "text/plain": [
       "{'colsample_bytree': 0.7,\n",
       " 'iterations': 300,\n",
       " 'learning_rate': 0.1,\n",
       " 'max_depth': 4}"
      ]
     },
     "execution_count": 65,
     "metadata": {},
     "output_type": "execute_result"
    }
   ],
   "source": [
    "lgb = LGBMClassifier()\n",
    "# Isntacia del grip search ponemos la grilla , la cantidad de kfolds para la␣validacion cruzada en este caso 5\n",
    "# n_jobs -1 para la paralelizacion de la ejecucion en la optimizacion del␣ modelo y verbose para mostrar de 2 en 2 los resultados\n",
    "grid_search = GridSearchCV(estimator = lgb, param_grid = param_grid, cv = 5,\n",
    "n_jobs = -1, verbose = 2)\n",
    "# FIT para ejecutarlo\n",
    "X_best = X[variables] ## recordar que se usa toda la data completa y con las␣ mejores variables\n",
    "grid_search.fit(X_best, y)\n",
    "grid_search.best_params_ # mostramos los mejores hiperparametros"
   ]
  },
  {
   "cell_type": "code",
   "execution_count": 66,
   "id": "50612a42",
   "metadata": {
    "scrolled": true
   },
   "outputs": [],
   "source": [
    "def evaluate(model, test_features,test_labels):\n",
    "    predictions= model.predict_proba(test_features)[:,1] \n",
    "    roc = roc_auc_score(test_labels,predictions) \n",
    "    print('Model Performance')\n",
    "    print('roc_auc_score = {:.12g}%.'.format(roc))\n",
    "    return roc"
   ]
  },
  {
   "cell_type": "code",
   "execution_count": 67,
   "id": "260236b3",
   "metadata": {
    "scrolled": true
   },
   "outputs": [
    {
     "name": "stdout",
     "output_type": "stream",
     "text": [
      "Model Performance\n",
      "roc_auc_score = 0.709904512271%.\n",
      "Model Performance\n",
      "roc_auc_score = 0.711017550159%.\n",
      "Mejora en 0.156786985979%.\n"
     ]
    }
   ],
   "source": [
    "base_model = LGBMClassifier()\n",
    "base_model.fit(best_X_train, y_train)\n",
    "base_roc = evaluate(base_model, best_X_test, y_test)\n",
    "## pasamos la funcion evaluate para sacar el resultado del modelo\n",
    "best_grid = grid_search.best_estimator_\n",
    "grid_roc = evaluate(best_grid, best_X_test, y_test)\n",
    "print('Mejora en {:.12g}%.'.format( 100 * (grid_roc - base_roc) / base_roc))"
   ]
  },
  {
   "cell_type": "code",
   "execution_count": 68,
   "id": "99e00186",
   "metadata": {},
   "outputs": [
    {
     "data": {
      "text/plain": [
       "0.7099045122712297"
      ]
     },
     "execution_count": 68,
     "metadata": {},
     "output_type": "execute_result"
    }
   ],
   "source": [
    " base_roc\n"
   ]
  },
  {
   "cell_type": "code",
   "execution_count": 69,
   "id": "5356489e",
   "metadata": {},
   "outputs": [
    {
     "data": {
      "text/plain": [
       "0.7099045122712297"
      ]
     },
     "execution_count": 69,
     "metadata": {},
     "output_type": "execute_result"
    }
   ],
   "source": [
    " base_roc\n",
    "\n"
   ]
  },
  {
   "cell_type": "code",
   "execution_count": 70,
   "id": "adb7eb5d",
   "metadata": {},
   "outputs": [
    {
     "data": {
      "text/plain": [
       "0.7110175501593505"
      ]
     },
     "execution_count": 70,
     "metadata": {},
     "output_type": "execute_result"
    }
   ],
   "source": [
    "grid_roc"
   ]
  },
  {
   "cell_type": "code",
   "execution_count": 71,
   "id": "f0b37742",
   "metadata": {},
   "outputs": [],
   "source": [
    "import numpy as np\n",
    "import pandas as pd\n",
    "import matplotlib.pyplot as plt\n",
    "import seaborn as sns\n",
    "from sklearn.datasets import make_classification\n",
    "from sklearn.ensemble import RandomForestClassifier\n",
    "from sklearn.model_selection import train_test_split\n",
    "from sklearn.metrics import roc_curve\n",
    "\n",
    "def plot_roc_curve(fper, tper):\n",
    "    plt.plot(fper, tper, color='red', label='ROC')\n",
    "    plt.plot([0, 1], [0, 1], color='green', linestyle='--')\n",
    "    plt.xlabel('False Positive Rate')\n",
    "    plt.ylabel('True Positive Rate')\n",
    "    plt.title('Receiver Operating Characteristic Curve')\n",
    "    plt.legend()\n",
    "    plt.show()"
   ]
  },
  {
   "cell_type": "code",
   "execution_count": 72,
   "id": "23a59037",
   "metadata": {},
   "outputs": [
    {
     "data": {
      "image/png": "[encoded data removed]",
      "text/plain": [
       "<Figure size 432x288 with 1 Axes>"
      ]
     },
     "metadata": {},
     "output_type": "display_data"
    }
   ],
   "source": [
    "\n",
    "fper, tper, thresholds = roc_curve(y_test, predict_test_lg)\n",
    "plot_roc_curve(fper, tper)"
   ]
  },
  {
   "cell_type": "code",
   "execution_count": null,
   "id": "4fc06eb4",
   "metadata": {},
   "outputs": [],
   "source": []
  }
 ],
 "metadata": {
  "kernelspec": {
   "display_name": "Python 3",
   "language": "python",
   "name": "python3"
  },
  "language_info": {
   "codemirror_mode": {
    "name": "ipython",
    "version": 3
   },
   "file_extension": ".py",
   "mimetype": "text/x-python",
   "name": "python",
   "nbconvert_exporter": "python",
   "pygments_lexer": "ipython3",
   "version": "3.8.8"
  }
 },
 "nbformat": 4,
 "nbformat_minor": 5
}
